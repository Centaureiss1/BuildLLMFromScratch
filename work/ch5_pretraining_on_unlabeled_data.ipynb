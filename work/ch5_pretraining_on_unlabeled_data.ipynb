{
 "cells": [
  {
   "cell_type": "markdown",
   "metadata": {},
   "source": [
    "#  This chapter covers\n",
    "Computing the training and validation set losses \n",
    "to assess the quality of LLM-generated text \n",
    "during training\n",
    "\n",
    "Implementing a training function and pretraining \n",
    "the LLM\n",
    "\n",
    "Saving and loading model weights to continue \n",
    "training an LLM\n",
    "\n",
    "Loading pretrained weights from OpenAI"
   ]
  },
  {
   "cell_type": "code",
   "execution_count": null,
   "metadata": {},
   "outputs": [],
   "source": []
  }
 ],
 "metadata": {
  "kernelspec": {
   "display_name": "Python 3",
   "language": "python",
   "name": "python3"
  },
  "language_info": {
   "name": "python",
   "version": "3.12.4"
  }
 },
 "nbformat": 4,
 "nbformat_minor": 2
}
